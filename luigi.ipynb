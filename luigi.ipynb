{
  "nbformat": 4,
  "nbformat_minor": 0,
  "metadata": {
    "colab": {
      "name": "luigi.ipynb",
      "provenance": [],
      "authorship_tag": "ABX9TyPKXg9ymVy2I6+/mVz0mgdo",
      "include_colab_link": true
    },
    "kernelspec": {
      "display_name": "Python 3",
      "name": "python3"
    }
  },
  "cells": [
    {
      "cell_type": "markdown",
      "metadata": {
        "id": "view-in-github",
        "colab_type": "text"
      },
      "source": [
        "<a href=\"https://colab.research.google.com/github/wfsilva-uea/luigi/blob/master/luigi.ipynb\" target=\"_parent\"><img src=\"https://colab.research.google.com/assets/colab-badge.svg\" alt=\"Open In Colab\"/></a>"
      ]
    },
    {
      "cell_type": "code",
      "metadata": {
        "id": "H87ag5ivLlUP"
      },
      "source": [
        "!pip install luigi"
      ],
      "execution_count": null,
      "outputs": []
    },
    {
      "cell_type": "code",
      "metadata": {
        "colab": {
          "base_uri": "https://localhost:8080/"
        },
        "id": "VosWjc3xDpmN",
        "outputId": "5e105d9d-26e9-4e9b-93b3-5d88086a7c9b"
      },
      "source": [
        "!npx degit wfsilva-uea/luigi/northwind.sqlite northwind.sqlite -f"
      ],
      "execution_count": 87,
      "outputs": [
        {
          "output_type": "stream",
          "text": [
            "\u001b[K\u001b[?25hnpx: installed 1 in 0.904s\n",
            "\u001b[36m> cloned \u001b[1mwfsilva-uea/luigi\u001b[22m#\u001b[1mmaster\u001b[22m to northwind.sqlite\u001b[39m\n"
          ],
          "name": "stdout"
        }
      ]
    },
    {
      "cell_type": "code",
      "metadata": {
        "id": "nC1G6CToMaY0"
      },
      "source": [
        "import luigi\n",
        "import sqlite3\n",
        "import pandas as pd\n",
        "import sqlalchemy as sqla\n",
        "\n",
        "from datetime import datetime"
      ],
      "execution_count": 25,
      "outputs": []
    },
    {
      "cell_type": "code",
      "metadata": {
        "id": "I9T3xNNNryC-"
      },
      "source": [
        "# northwind connection\n",
        "conn = sqlite3.connect('northwind.sqlite')"
      ],
      "execution_count": 14,
      "outputs": []
    },
    {
      "cell_type": "code",
      "metadata": {
        "id": "D4AgpP08D0bh"
      },
      "source": [
        "# dw connection\n",
        "conn_dw = sqlite3.connect('dw.sqlite')"
      ],
      "execution_count": null,
      "outputs": []
    },
    {
      "cell_type": "code",
      "metadata": {
        "id": "3UGnBTzA3BzO"
      },
      "source": [
        "class CustomerTask(luigi.Task):\n",
        "  \n",
        "  def output(self):\n",
        "    today_str = datetime.today().strftime('%d%m%Y')\n",
        "    return luigi.LocalTarget('customers_%s.log' % today_str)\n",
        "\n",
        "  def run(self):\n",
        "    with self.output().open('w') as target:\n",
        "\n",
        "      target.write('Iniciando processo ETL\\n')\n",
        "\n",
        "      sql = \"\"\"\n",
        "        select \n",
        "          customer_id,\n",
        "          contact_name,\n",
        "          contact_title,\n",
        "          company_name\n",
        "        from customers\n",
        "        order by contact_name  \n",
        "      \"\"\"\n",
        "\n",
        "      target.write('Lendo tabela de clientes\\n')\n",
        "\n",
        "      df = pd.read_sql_query(sql, conn)\n",
        "      \n",
        "      target.write('%d registros foram encontrados\\n' % len(df))\n",
        "\n",
        "      target.write('Gerando tabela clientes no DW\\n')\n",
        "      \n",
        "      # storing in CSV\n",
        "      df.to_csv('clientes.csv', index=False, encoding='utf-8')\n",
        "\n",
        "      target.write('Finalizando processo ETL\\n')"
      ],
      "execution_count": 63,
      "outputs": []
    },
    {
      "cell_type": "code",
      "metadata": {
        "id": "xl6wNCEs4q-e"
      },
      "source": [
        "class ProductsTask(luigi.Task):\n",
        "  \n",
        "  def requires(self):\n",
        "    return CustomerTask()\n",
        "\n",
        "  def output(self):\n",
        "    today_str = datetime.today().strftime('%d%m%Y')\n",
        "    return luigi.LocalTarget('products_%s.log' % today_str)\n",
        "\n",
        "  def run(self):\n",
        "    with self.output().open('w') as target:\n",
        "\n",
        "      target.write('Iniciando processo ETL\\n')\n",
        "\n",
        "      sql = \"\"\"\n",
        "        select \n",
        "          product_id,\n",
        "          product_name,\n",
        "          unit_price\n",
        "        from products\n",
        "        order by product_name\n",
        "      \"\"\"\n",
        "\n",
        "      target.write('Lendo tabela de produtos\\n')\n",
        "\n",
        "      df = pd.read_sql_query(sql, conn)\n",
        "      \n",
        "      target.write('%d registros foram encontrados\\n' % len(df))\n",
        "\n",
        "      target.write('Gerando tabela produtos no DW\\n')\n",
        "      \n",
        "      # storing in DW\n",
        "      df.to_sql('produtos', index=False, con=conn_dw, if_exists='replace')\n",
        "\n",
        "      target.write('Finalizando processo ETL\\n')"
      ],
      "execution_count": 64,
      "outputs": []
    },
    {
      "cell_type": "code",
      "metadata": {
        "id": "LIP6ryMO5N4n"
      },
      "source": [
        "class OrderTask(luigi.Task):\n",
        "  \n",
        "  def requires(self):\n",
        "    return ProductsTask()\n",
        "\n",
        "  def output(self):\n",
        "    today_str = datetime.today().strftime('%d%m%Y')\n",
        "    return luigi.LocalTarget('orders_%s.log' % today_str)\n",
        "\n",
        "  def run(self):\n",
        "    with self.output().open('w') as target:\n",
        "\n",
        "      target.write('Iniciando processo ETL\\n')\n",
        "\n",
        "      sql = \"\"\"\n",
        "        select\n",
        "          c.customer_id,\n",
        "          p.product_id,\n",
        "          sum((od.unit_price * od.quantity * (1 - od.discount) / 100) * 100) as subtotal\n",
        "        from products p \n",
        "        inner join order_details od on p.product_id = od.product_id\n",
        "        inner join orders o on od.order_id = o.order_id\n",
        "        inner join customers c on o.customer_id = c.customer_id\n",
        "        where o.order_date between '1996-01-01' and '1996-12-31'\n",
        "        group by c.customer_id, p.product_id\n",
        "      \"\"\"\n",
        "\n",
        "      # orders\n",
        "      target.write('Lendo tabela de pedidos\\n')\n",
        "\n",
        "      df_orders = pd.read_sql_query(sql, conn)\n",
        "      \n",
        "      target.write('%d registros foram encontrados\\n' % len(df_orders))\n",
        "\n",
        "      \n",
        "      # customers\n",
        "      target.write('Lendo arquivo CSV de clientes\\n')\n",
        "\n",
        "      df_customers = pd.read_csv('clientes.csv', encoding='utf-8')\n",
        "\n",
        "      target.write('%d registros foram encontrados\\n' % len(df_customers))\n",
        "\n",
        "\n",
        "      # products\n",
        "      target.write('Lendo tabela de produtos\\n')\n",
        "\n",
        "      df_products = pd.read_sql_query('select * from produtos', conn_dw)\n",
        "\n",
        "      target.write('%d registros foram encontrados\\n' % len(df_products))\n",
        "\n",
        "\n",
        "      # merging orders and customers\n",
        "      target.write('Realizando merge das tabela de clientes, produtos e pedidos\\n')\n",
        "\n",
        "      df_merged = pd.merge(df_orders, df_customers, left_on=['customer_id'], right_on=['customer_id'])    \n",
        "      df_merged = pd.merge(df_merged, df_products, left_on=['product_id'], right_on=['product_id'])\n",
        "      \n",
        "      # storing in DW\n",
        "      target.write('Gerando tabela pedidos no DW\\n')\n",
        "      \n",
        "      df_merged.to_sql('pedidos', index=False, con=conn_dw, if_exists='replace')\n",
        "\n",
        "      target.write('Finalizando processo ETL\\n')"
      ],
      "execution_count": 88,
      "outputs": []
    },
    {
      "cell_type": "code",
      "metadata": {
        "colab": {
          "base_uri": "https://localhost:8080/"
        },
        "id": "kgfjFhkG5V4g",
        "outputId": "6ea1a61a-741d-44ee-d5ba-0b1eca9d2013"
      },
      "source": [
        "# run luigi as local scheduler\n",
        "luigi.build([OrderTask()], local_scheduler=True)"
      ],
      "execution_count": 73,
      "outputs": [
        {
          "output_type": "stream",
          "text": [
            "DEBUG: Checking if OrderTask() is complete\n",
            "DEBUG: Checking if ProductsTask() is complete\n",
            "INFO: Informed scheduler that task   OrderTask__99914b932b   has status   PENDING\n",
            "INFO: Informed scheduler that task   ProductsTask__99914b932b   has status   DONE\n",
            "INFO: Done scheduling tasks\n",
            "INFO: Running Worker with 1 processes\n",
            "DEBUG: Asking scheduler for work...\n",
            "DEBUG: Pending tasks: 1\n",
            "INFO: [pid 55] Worker Worker(salt=996105064, workers=1, host=6090e67df8b8, username=root, pid=55) running   OrderTask()\n",
            "INFO: [pid 55] Worker Worker(salt=996105064, workers=1, host=6090e67df8b8, username=root, pid=55) done      OrderTask()\n",
            "DEBUG: 1 running tasks, waiting for next task to finish\n",
            "INFO: Informed scheduler that task   OrderTask__99914b932b   has status   DONE\n",
            "DEBUG: Asking scheduler for work...\n",
            "DEBUG: Done\n",
            "DEBUG: There are no more tasks to run at this time\n",
            "INFO: Worker Worker(salt=996105064, workers=1, host=6090e67df8b8, username=root, pid=55) was stopped. Shutting down Keep-Alive thread\n",
            "INFO: \n",
            "===== Luigi Execution Summary =====\n",
            "\n",
            "Scheduled 2 tasks of which:\n",
            "* 1 complete ones were encountered:\n",
            "    - 1 ProductsTask()\n",
            "* 1 ran successfully:\n",
            "    - 1 OrderTask()\n",
            "\n",
            "This progress looks :) because there were no failed tasks or missing dependencies\n",
            "\n",
            "===== Luigi Execution Summary =====\n",
            "\n"
          ],
          "name": "stderr"
        },
        {
          "output_type": "execute_result",
          "data": {
            "text/plain": [
              "True"
            ]
          },
          "metadata": {
            "tags": []
          },
          "execution_count": 73
        }
      ]
    },
    {
      "cell_type": "code",
      "metadata": {
        "colab": {
          "base_uri": "https://localhost:8080/",
          "height": 419
        },
        "id": "hLjhXWhc2fqB",
        "outputId": "2a91a4da-aa35-401e-d95b-b7fb4120687f"
      },
      "source": [
        "sql = \"\"\"\n",
        "  select\n",
        "    p.contact_name as cliente_name,\n",
        "    sum(p.subtotal)\n",
        "  from pedidos p\n",
        "  group by p.contact_name\n",
        "  order by subtotal desc\n",
        "\"\"\"\n",
        "df = pd.read_sql_query(sql, conn_dw)\n",
        "df"
      ],
      "execution_count": 85,
      "outputs": [
        {
          "output_type": "execute_result",
          "data": {
            "text/html": [
              "<div>\n",
              "<style scoped>\n",
              "    .dataframe tbody tr th:only-of-type {\n",
              "        vertical-align: middle;\n",
              "    }\n",
              "\n",
              "    .dataframe tbody tr th {\n",
              "        vertical-align: top;\n",
              "    }\n",
              "\n",
              "    .dataframe thead th {\n",
              "        text-align: right;\n",
              "    }\n",
              "</style>\n",
              "<table border=\"1\" class=\"dataframe\">\n",
              "  <thead>\n",
              "    <tr style=\"text-align: right;\">\n",
              "      <th></th>\n",
              "      <th>cliente_name</th>\n",
              "      <th>sum(p.subtotal)</th>\n",
              "    </tr>\n",
              "  </thead>\n",
              "  <tbody>\n",
              "    <tr>\n",
              "      <th>0</th>\n",
              "      <td>Georg Pipps</td>\n",
              "      <td>10033.280040</td>\n",
              "    </tr>\n",
              "    <tr>\n",
              "      <th>1</th>\n",
              "      <td>Horst Kloss</td>\n",
              "      <td>11950.080001</td>\n",
              "    </tr>\n",
              "    <tr>\n",
              "      <th>2</th>\n",
              "      <td>Karl Jablonski</td>\n",
              "      <td>2938.199998</td>\n",
              "    </tr>\n",
              "    <tr>\n",
              "      <th>3</th>\n",
              "      <td>Carlos Hernández</td>\n",
              "      <td>3242.820006</td>\n",
              "    </tr>\n",
              "    <tr>\n",
              "      <th>4</th>\n",
              "      <td>Anabela Domingues</td>\n",
              "      <td>1296.000062</td>\n",
              "    </tr>\n",
              "    <tr>\n",
              "      <th>...</th>\n",
              "      <td>...</td>\n",
              "      <td>...</td>\n",
              "    </tr>\n",
              "    <tr>\n",
              "      <th>62</th>\n",
              "      <td>Fran Wilson</td>\n",
              "      <td>712.000007</td>\n",
              "    </tr>\n",
              "    <tr>\n",
              "      <th>63</th>\n",
              "      <td>Maurizio Moroni</td>\n",
              "      <td>80.100001</td>\n",
              "    </tr>\n",
              "    <tr>\n",
              "      <th>64</th>\n",
              "      <td>Francisco Chang</td>\n",
              "      <td>100.799999</td>\n",
              "    </tr>\n",
              "    <tr>\n",
              "      <th>65</th>\n",
              "      <td>Jytte Petersen</td>\n",
              "      <td>352.599998</td>\n",
              "    </tr>\n",
              "    <tr>\n",
              "      <th>66</th>\n",
              "      <td>Alejandra Camino</td>\n",
              "      <td>740.400020</td>\n",
              "    </tr>\n",
              "  </tbody>\n",
              "</table>\n",
              "<p>67 rows × 2 columns</p>\n",
              "</div>"
            ],
            "text/plain": [
              "         cliente_name  sum(p.subtotal)\n",
              "0         Georg Pipps     10033.280040\n",
              "1         Horst Kloss     11950.080001\n",
              "2      Karl Jablonski      2938.199998\n",
              "3    Carlos Hernández      3242.820006\n",
              "4   Anabela Domingues      1296.000062\n",
              "..                ...              ...\n",
              "62        Fran Wilson       712.000007\n",
              "63    Maurizio Moroni        80.100001\n",
              "64    Francisco Chang       100.799999\n",
              "65     Jytte Petersen       352.599998\n",
              "66   Alejandra Camino       740.400020\n",
              "\n",
              "[67 rows x 2 columns]"
            ]
          },
          "metadata": {
            "tags": []
          },
          "execution_count": 85
        }
      ]
    },
    {
      "cell_type": "code",
      "metadata": {
        "id": "4fOUosBAsYts"
      },
      "source": [
        ""
      ],
      "execution_count": null,
      "outputs": []
    }
  ]
}