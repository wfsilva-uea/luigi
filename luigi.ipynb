{
  "nbformat": 4,
  "nbformat_minor": 0,
  "metadata": {
    "colab": {
      "name": "luigi.ipynb",
      "provenance": [],
      "include_colab_link": true
    },
    "kernelspec": {
      "display_name": "Python 3",
      "name": "python3"
    }
  },
  "cells": [
    {
      "cell_type": "markdown",
      "metadata": {
        "id": "view-in-github",
        "colab_type": "text"
      },
      "source": [
        "<a href=\"https://colab.research.google.com/github/wfsilva-uea/luigi/blob/master/luigi.ipynb\" target=\"_parent\"><img src=\"https://colab.research.google.com/assets/colab-badge.svg\" alt=\"Open In Colab\"/></a>"
      ]
    },
    {
      "cell_type": "markdown",
      "metadata": {
        "id": "Z8rQVhYPGM2P"
      },
      "source": [
        "### Oque é ETL?\n"
      ]
    },
    {
      "cell_type": "markdown",
      "metadata": {
        "id": "XikXMXZOGpN4"
      },
      "source": [
        "A coleta dos dados corrobora para o processo de Extract, Transform and Load (ETL), que são as rotinas para extração, transformação e carga dos dados extraídos dos bancos de dados de origem (transacionais) para o “Data Warehouse” (DW). O processo de ETL é a etapa mais importante dentro de processo de BI. É essencial na modelagem da base de dados e faz a conexão entre o operacional e o DW. "
      ]
    },
    {
      "cell_type": "markdown",
      "metadata": {
        "id": "3fI4Spi-Hmjp"
      },
      "source": [
        "### Por que sua utilização no processo de Ciências dos Dados?\n"
      ]
    },
    {
      "cell_type": "markdown",
      "metadata": {
        "id": "-DB9FG3dGrZw"
      },
      "source": [
        "Quando trabalhamos com um grande volume de dados uma ferramenta ETL deve ser utilizada. Utiliza-se da criação de consultas em SQL, de uma forma bem visual, criando componentes que irão automatizar a atualização dos dados, tabelas e visualizações a serem enviados, populando e estruturando do DW."
      ]
    },
    {
      "cell_type": "markdown",
      "metadata": {
        "id": "xzXuM-NpIYvd"
      },
      "source": [
        "### Caraterísticas gerais da ferramenta. Vantagem e desvantagem"
      ]
    },
    {
      "cell_type": "markdown",
      "metadata": {
        "id": "isDyuZ5hIiEX"
      },
      "source": [
        "Luigi é uma biblioteca de pipeline projetada totalmente em Python pelo Spotify para resolver todos os problemas de pipeline associados a processos em lote de longa execução.\n",
        "A estrutura de um pipeline em Luigi lembra a de um grafo, com nós e arestas conectando os nós."
      ]
    },
    {
      "cell_type": "markdown",
      "metadata": {
        "id": "5h4skoGuJQgX"
      },
      "source": [
        "### Desenvolver um exemplo do processo ETL, incluir no exemplo operação de linha, classificação, junção e agregação."
      ]
    },
    {
      "cell_type": "code",
      "metadata": {
        "id": "H87ag5ivLlUP",
        "colab": {
          "base_uri": "https://localhost:8080/"
        },
        "outputId": "5b14031e-b094-4241-a563-1156bd104790"
      },
      "source": [
        "!pip install luigi"
      ],
      "execution_count": 2,
      "outputs": [
        {
          "output_type": "stream",
          "text": [
            "Collecting luigi\n",
            "\u001b[?25l  Downloading https://files.pythonhosted.org/packages/8d/fc/fc85191d785ebec572a9f64cac18122b7ca800393b11508135a198e35aed/luigi-3.0.2.tar.gz (1.2MB)\n",
            "\r\u001b[K     |▎                               | 10kB 14.3MB/s eta 0:00:01\r\u001b[K     |▌                               | 20kB 19.6MB/s eta 0:00:01\r\u001b[K     |▉                               | 30kB 12.3MB/s eta 0:00:01\r\u001b[K     |█                               | 40kB 9.5MB/s eta 0:00:01\r\u001b[K     |█▍                              | 51kB 5.0MB/s eta 0:00:01\r\u001b[K     |█▋                              | 61kB 5.1MB/s eta 0:00:01\r\u001b[K     |██                              | 71kB 5.7MB/s eta 0:00:01\r\u001b[K     |██▏                             | 81kB 6.1MB/s eta 0:00:01\r\u001b[K     |██▌                             | 92kB 6.1MB/s eta 0:00:01\r\u001b[K     |██▊                             | 102kB 6.6MB/s eta 0:00:01\r\u001b[K     |███                             | 112kB 6.6MB/s eta 0:00:01\r\u001b[K     |███▎                            | 122kB 6.6MB/s eta 0:00:01\r\u001b[K     |███▌                            | 133kB 6.6MB/s eta 0:00:01\r\u001b[K     |███▉                            | 143kB 6.6MB/s eta 0:00:01\r\u001b[K     |████                            | 153kB 6.6MB/s eta 0:00:01\r\u001b[K     |████▍                           | 163kB 6.6MB/s eta 0:00:01\r\u001b[K     |████▋                           | 174kB 6.6MB/s eta 0:00:01\r\u001b[K     |█████                           | 184kB 6.6MB/s eta 0:00:01\r\u001b[K     |█████▏                          | 194kB 6.6MB/s eta 0:00:01\r\u001b[K     |█████▍                          | 204kB 6.6MB/s eta 0:00:01\r\u001b[K     |█████▊                          | 215kB 6.6MB/s eta 0:00:01\r\u001b[K     |██████                          | 225kB 6.6MB/s eta 0:00:01\r\u001b[K     |██████▎                         | 235kB 6.6MB/s eta 0:00:01\r\u001b[K     |██████▌                         | 245kB 6.6MB/s eta 0:00:01\r\u001b[K     |██████▉                         | 256kB 6.6MB/s eta 0:00:01\r\u001b[K     |███████                         | 266kB 6.6MB/s eta 0:00:01\r\u001b[K     |███████▍                        | 276kB 6.6MB/s eta 0:00:01\r\u001b[K     |███████▋                        | 286kB 6.6MB/s eta 0:00:01\r\u001b[K     |███████▉                        | 296kB 6.6MB/s eta 0:00:01\r\u001b[K     |████████▏                       | 307kB 6.6MB/s eta 0:00:01\r\u001b[K     |████████▍                       | 317kB 6.6MB/s eta 0:00:01\r\u001b[K     |████████▊                       | 327kB 6.6MB/s eta 0:00:01\r\u001b[K     |█████████                       | 337kB 6.6MB/s eta 0:00:01\r\u001b[K     |█████████▎                      | 348kB 6.6MB/s eta 0:00:01\r\u001b[K     |█████████▌                      | 358kB 6.6MB/s eta 0:00:01\r\u001b[K     |█████████▉                      | 368kB 6.6MB/s eta 0:00:01\r\u001b[K     |██████████                      | 378kB 6.6MB/s eta 0:00:01\r\u001b[K     |██████████▎                     | 389kB 6.6MB/s eta 0:00:01\r\u001b[K     |██████████▋                     | 399kB 6.6MB/s eta 0:00:01\r\u001b[K     |██████████▉                     | 409kB 6.6MB/s eta 0:00:01\r\u001b[K     |███████████▏                    | 419kB 6.6MB/s eta 0:00:01\r\u001b[K     |███████████▍                    | 430kB 6.6MB/s eta 0:00:01\r\u001b[K     |███████████▊                    | 440kB 6.6MB/s eta 0:00:01\r\u001b[K     |████████████                    | 450kB 6.6MB/s eta 0:00:01\r\u001b[K     |████████████▎                   | 460kB 6.6MB/s eta 0:00:01\r\u001b[K     |████████████▌                   | 471kB 6.6MB/s eta 0:00:01\r\u001b[K     |████████████▊                   | 481kB 6.6MB/s eta 0:00:01\r\u001b[K     |█████████████                   | 491kB 6.6MB/s eta 0:00:01\r\u001b[K     |█████████████▎                  | 501kB 6.6MB/s eta 0:00:01\r\u001b[K     |█████████████▋                  | 512kB 6.6MB/s eta 0:00:01\r\u001b[K     |█████████████▉                  | 522kB 6.6MB/s eta 0:00:01\r\u001b[K     |██████████████▏                 | 532kB 6.6MB/s eta 0:00:01\r\u001b[K     |██████████████▍                 | 542kB 6.6MB/s eta 0:00:01\r\u001b[K     |██████████████▊                 | 552kB 6.6MB/s eta 0:00:01\r\u001b[K     |███████████████                 | 563kB 6.6MB/s eta 0:00:01\r\u001b[K     |███████████████▏                | 573kB 6.6MB/s eta 0:00:01\r\u001b[K     |███████████████▌                | 583kB 6.6MB/s eta 0:00:01\r\u001b[K     |███████████████▊                | 593kB 6.6MB/s eta 0:00:01\r\u001b[K     |████████████████                | 604kB 6.6MB/s eta 0:00:01\r\u001b[K     |████████████████▎               | 614kB 6.6MB/s eta 0:00:01\r\u001b[K     |████████████████▋               | 624kB 6.6MB/s eta 0:00:01\r\u001b[K     |████████████████▉               | 634kB 6.6MB/s eta 0:00:01\r\u001b[K     |█████████████████▏              | 645kB 6.6MB/s eta 0:00:01\r\u001b[K     |█████████████████▍              | 655kB 6.6MB/s eta 0:00:01\r\u001b[K     |█████████████████▋              | 665kB 6.6MB/s eta 0:00:01\r\u001b[K     |██████████████████              | 675kB 6.6MB/s eta 0:00:01\r\u001b[K     |██████████████████▏             | 686kB 6.6MB/s eta 0:00:01\r\u001b[K     |██████████████████▌             | 696kB 6.6MB/s eta 0:00:01\r\u001b[K     |██████████████████▊             | 706kB 6.6MB/s eta 0:00:01\r\u001b[K     |███████████████████             | 716kB 6.6MB/s eta 0:00:01\r\u001b[K     |███████████████████▎            | 727kB 6.6MB/s eta 0:00:01\r\u001b[K     |███████████████████▋            | 737kB 6.6MB/s eta 0:00:01\r\u001b[K     |███████████████████▉            | 747kB 6.6MB/s eta 0:00:01\r\u001b[K     |████████████████████▏           | 757kB 6.6MB/s eta 0:00:01\r\u001b[K     |████████████████████▍           | 768kB 6.6MB/s eta 0:00:01\r\u001b[K     |████████████████████▋           | 778kB 6.6MB/s eta 0:00:01\r\u001b[K     |█████████████████████           | 788kB 6.6MB/s eta 0:00:01\r\u001b[K     |█████████████████████▏          | 798kB 6.6MB/s eta 0:00:01\r\u001b[K     |█████████████████████▌          | 808kB 6.6MB/s eta 0:00:01\r\u001b[K     |█████████████████████▊          | 819kB 6.6MB/s eta 0:00:01\r\u001b[K     |██████████████████████          | 829kB 6.6MB/s eta 0:00:01\r\u001b[K     |██████████████████████▎         | 839kB 6.6MB/s eta 0:00:01\r\u001b[K     |██████████████████████▋         | 849kB 6.6MB/s eta 0:00:01\r\u001b[K     |██████████████████████▉         | 860kB 6.6MB/s eta 0:00:01\r\u001b[K     |███████████████████████         | 870kB 6.6MB/s eta 0:00:01\r\u001b[K     |███████████████████████▍        | 880kB 6.6MB/s eta 0:00:01\r\u001b[K     |███████████████████████▋        | 890kB 6.6MB/s eta 0:00:01\r\u001b[K     |████████████████████████        | 901kB 6.6MB/s eta 0:00:01\r\u001b[K     |████████████████████████▏       | 911kB 6.6MB/s eta 0:00:01\r\u001b[K     |████████████████████████▌       | 921kB 6.6MB/s eta 0:00:01\r\u001b[K     |████████████████████████▊       | 931kB 6.6MB/s eta 0:00:01\r\u001b[K     |█████████████████████████       | 942kB 6.6MB/s eta 0:00:01\r\u001b[K     |█████████████████████████▎      | 952kB 6.6MB/s eta 0:00:01\r\u001b[K     |█████████████████████████▌      | 962kB 6.6MB/s eta 0:00:01\r\u001b[K     |█████████████████████████▉      | 972kB 6.6MB/s eta 0:00:01\r\u001b[K     |██████████████████████████      | 983kB 6.6MB/s eta 0:00:01\r\u001b[K     |██████████████████████████▍     | 993kB 6.6MB/s eta 0:00:01\r\u001b[K     |██████████████████████████▋     | 1.0MB 6.6MB/s eta 0:00:01\r\u001b[K     |███████████████████████████     | 1.0MB 6.6MB/s eta 0:00:01\r\u001b[K     |███████████████████████████▏    | 1.0MB 6.6MB/s eta 0:00:01\r\u001b[K     |███████████████████████████▌    | 1.0MB 6.6MB/s eta 0:00:01\r\u001b[K     |███████████████████████████▊    | 1.0MB 6.6MB/s eta 0:00:01\r\u001b[K     |████████████████████████████    | 1.1MB 6.6MB/s eta 0:00:01\r\u001b[K     |████████████████████████████▎   | 1.1MB 6.6MB/s eta 0:00:01\r\u001b[K     |████████████████████████████▌   | 1.1MB 6.6MB/s eta 0:00:01\r\u001b[K     |████████████████████████████▉   | 1.1MB 6.6MB/s eta 0:00:01\r\u001b[K     |█████████████████████████████   | 1.1MB 6.6MB/s eta 0:00:01\r\u001b[K     |█████████████████████████████▍  | 1.1MB 6.6MB/s eta 0:00:01\r\u001b[K     |█████████████████████████████▋  | 1.1MB 6.6MB/s eta 0:00:01\r\u001b[K     |██████████████████████████████  | 1.1MB 6.6MB/s eta 0:00:01\r\u001b[K     |██████████████████████████████▏ | 1.1MB 6.6MB/s eta 0:00:01\r\u001b[K     |██████████████████████████████▍ | 1.1MB 6.6MB/s eta 0:00:01\r\u001b[K     |██████████████████████████████▊ | 1.2MB 6.6MB/s eta 0:00:01\r\u001b[K     |███████████████████████████████ | 1.2MB 6.6MB/s eta 0:00:01\r\u001b[K     |███████████████████████████████▎| 1.2MB 6.6MB/s eta 0:00:01\r\u001b[K     |███████████████████████████████▌| 1.2MB 6.6MB/s eta 0:00:01\r\u001b[K     |███████████████████████████████▉| 1.2MB 6.6MB/s eta 0:00:01\r\u001b[K     |████████████████████████████████| 1.2MB 6.6MB/s \n",
            "\u001b[?25hRequirement already satisfied: python-dateutil<3,>=2.7.5 in /usr/local/lib/python3.6/dist-packages (from luigi) (2.8.1)\n",
            "Collecting python-daemon\n",
            "  Downloading https://files.pythonhosted.org/packages/5a/0c/57f15b1572661877ff1acbe66c2f5be9d999ae5fb128e22933d374f62aa1/python_daemon-2.2.4-py2.py3-none-any.whl\n",
            "Requirement already satisfied: tornado<7,>=5.0 in /usr/local/lib/python3.6/dist-packages (from luigi) (5.1.1)\n",
            "Requirement already satisfied: six>=1.5 in /usr/local/lib/python3.6/dist-packages (from python-dateutil<3,>=2.7.5->luigi) (1.15.0)\n",
            "Requirement already satisfied: setuptools in /usr/local/lib/python3.6/dist-packages (from python-daemon->luigi) (50.3.2)\n",
            "Requirement already satisfied: docutils in /usr/local/lib/python3.6/dist-packages (from python-daemon->luigi) (0.16)\n",
            "Collecting lockfile>=0.10\n",
            "  Downloading https://files.pythonhosted.org/packages/c8/22/9460e311f340cb62d26a38c419b1381b8593b0bb6b5d1f056938b086d362/lockfile-0.12.2-py2.py3-none-any.whl\n",
            "Building wheels for collected packages: luigi\n",
            "  Building wheel for luigi (setup.py) ... \u001b[?25l\u001b[?25hdone\n",
            "  Created wheel for luigi: filename=luigi-3.0.2-cp36-none-any.whl size=1076734 sha256=e6f07e2b1987feeda319f4620c3976878fceeeb0ec4fd9540e3b00b7f4c7b8fe\n",
            "  Stored in directory: /root/.cache/pip/wheels/9f/70/d2/58c9f0bba29e7123f984ba2bb927cf8877c89c8c3c82a57ade\n",
            "Successfully built luigi\n",
            "Installing collected packages: lockfile, python-daemon, luigi\n",
            "Successfully installed lockfile-0.12.2 luigi-3.0.2 python-daemon-2.2.4\n"
          ],
          "name": "stdout"
        }
      ]
    },
    {
      "cell_type": "code",
      "metadata": {
        "colab": {
          "base_uri": "https://localhost:8080/"
        },
        "id": "VosWjc3xDpmN",
        "outputId": "c923f7e5-080c-439c-d75a-5b766639bbf0"
      },
      "source": [
        "!npx degit wfsilva-uea/luigi/northwind.sqlite northwind.sqlite -f"
      ],
      "execution_count": 3,
      "outputs": [
        {
          "output_type": "stream",
          "text": [
            "\u001b[K\u001b[?25hnpx: installed 1 in 0.919s\n",
            "\u001b[31m! ENOTDIR: not a directory, scandir 'northwind.sqlite'\u001b[39m\n"
          ],
          "name": "stdout"
        }
      ]
    },
    {
      "cell_type": "code",
      "metadata": {
        "id": "nC1G6CToMaY0"
      },
      "source": [
        "import luigi\n",
        "import sqlite3\n",
        "import pandas as pd\n",
        "import sqlalchemy as sqla\n",
        "\n",
        "from datetime import datetime"
      ],
      "execution_count": 4,
      "outputs": []
    },
    {
      "cell_type": "code",
      "metadata": {
        "id": "I9T3xNNNryC-"
      },
      "source": [
        "# northwind connection\n",
        "conn = sqlite3.connect('northwind.sqlite')"
      ],
      "execution_count": 5,
      "outputs": []
    },
    {
      "cell_type": "code",
      "metadata": {
        "id": "D4AgpP08D0bh"
      },
      "source": [
        "# dw connection\n",
        "conn_dw = sqlite3.connect('dw.sqlite')"
      ],
      "execution_count": 6,
      "outputs": []
    },
    {
      "cell_type": "code",
      "metadata": {
        "id": "3UGnBTzA3BzO"
      },
      "source": [
        "class CustomerTask(luigi.Task):\n",
        "  \n",
        "  def output(self):\n",
        "    today_str = datetime.today().strftime('%d%m%Y')\n",
        "    return luigi.LocalTarget('customers_%s.log' % today_str)\n",
        "\n",
        "  def run(self):\n",
        "    with self.output().open('w') as target:\n",
        "\n",
        "      target.write('Iniciando processo ETL\\n')\n",
        "\n",
        "      sql = \"\"\"\n",
        "        select \n",
        "          customer_id,\n",
        "          contact_name,\n",
        "          contact_title,\n",
        "          company_name\n",
        "        from customers\n",
        "        order by contact_name  \n",
        "      \"\"\"\n",
        "\n",
        "      target.write('Lendo tabela de clientes\\n')\n",
        "\n",
        "      df = pd.read_sql_query(sql, conn)\n",
        "      \n",
        "      target.write('%d registros foram encontrados\\n' % len(df))\n",
        "\n",
        "      target.write('Gerando tabela clientes no DW\\n')\n",
        "      \n",
        "      # storing in CSV\n",
        "      df.to_csv('clientes.csv', index=False, encoding='utf-8')\n",
        "\n",
        "      target.write('Finalizando processo ETL\\n')"
      ],
      "execution_count": 7,
      "outputs": []
    },
    {
      "cell_type": "code",
      "metadata": {
        "id": "xl6wNCEs4q-e"
      },
      "source": [
        "class ProductsTask(luigi.Task):\n",
        "  \n",
        "  def requires(self):\n",
        "    return CustomerTask()\n",
        "\n",
        "  def output(self):\n",
        "    today_str = datetime.today().strftime('%d%m%Y')\n",
        "    return luigi.LocalTarget('products_%s.log' % today_str)\n",
        "\n",
        "  def run(self):\n",
        "    with self.output().open('w') as target:\n",
        "\n",
        "      target.write('Iniciando processo ETL\\n')\n",
        "\n",
        "      sql = \"\"\"\n",
        "        select \n",
        "          product_id,\n",
        "          product_name,\n",
        "          unit_price\n",
        "        from products\n",
        "        order by product_name\n",
        "      \"\"\"\n",
        "\n",
        "      target.write('Lendo tabela de produtos\\n')\n",
        "\n",
        "      df = pd.read_sql_query(sql, conn)\n",
        "      \n",
        "      target.write('%d registros foram encontrados\\n' % len(df))\n",
        "\n",
        "      target.write('Gerando tabela produtos no DW\\n')\n",
        "      \n",
        "      # storing in DW\n",
        "      df.to_sql('produtos', index=False, con=conn_dw, if_exists='replace')\n",
        "\n",
        "      target.write('Finalizando processo ETL\\n')"
      ],
      "execution_count": 8,
      "outputs": []
    },
    {
      "cell_type": "code",
      "metadata": {
        "id": "LIP6ryMO5N4n"
      },
      "source": [
        "class OrderTask(luigi.Task):\n",
        "  \n",
        "  def requires(self):\n",
        "    return ProductsTask()\n",
        "\n",
        "  def output(self):\n",
        "    today_str = datetime.today().strftime('%d%m%Y')\n",
        "    return luigi.LocalTarget('orders_%s.log' % today_str)\n",
        "\n",
        "  def run(self):\n",
        "    with self.output().open('w') as target:\n",
        "\n",
        "      target.write('Iniciando processo ETL\\n')\n",
        "\n",
        "      sql = \"\"\"\n",
        "        select\n",
        "          c.customer_id,\n",
        "          p.product_id,\n",
        "          sum((od.unit_price * od.quantity * (1 - od.discount) / 100) * 100) as subtotal\n",
        "        from products p \n",
        "        inner join order_details od on p.product_id = od.product_id\n",
        "        inner join orders o on od.order_id = o.order_id\n",
        "        inner join customers c on o.customer_id = c.customer_id\n",
        "        where o.order_date between '1996-01-01' and '1996-12-31'\n",
        "        group by c.customer_id, p.product_id\n",
        "      \"\"\"\n",
        "\n",
        "      # orders\n",
        "      target.write('Lendo tabela de pedidos\\n')\n",
        "\n",
        "      df_orders = pd.read_sql_query(sql, conn)\n",
        "      \n",
        "      target.write('%d registros foram encontrados\\n' % len(df_orders))\n",
        "\n",
        "      \n",
        "      # customers\n",
        "      target.write('Lendo arquivo CSV de clientes\\n')\n",
        "\n",
        "      df_customers = pd.read_csv('clientes.csv', encoding='utf-8')\n",
        "\n",
        "      target.write('%d registros foram encontrados\\n' % len(df_customers))\n",
        "\n",
        "\n",
        "      # products\n",
        "      target.write('Lendo tabela de produtos\\n')\n",
        "\n",
        "      df_products = pd.read_sql_query('select * from produtos', conn_dw)\n",
        "\n",
        "      target.write('%d registros foram encontrados\\n' % len(df_products))\n",
        "\n",
        "\n",
        "      # merging orders and customers\n",
        "      target.write('Realizando merge das tabela de clientes, produtos e pedidos\\n')\n",
        "\n",
        "      df_merged = pd.merge(df_orders, df_customers, left_on=['customer_id'], right_on=['customer_id'])    \n",
        "      df_merged = pd.merge(df_merged, df_products, left_on=['product_id'], right_on=['product_id'])\n",
        "      \n",
        "      # storing in DW\n",
        "      target.write('Gerando tabela pedidos no DW\\n')\n",
        "      \n",
        "      df_merged.to_sql('pedidos', index=False, con=conn_dw, if_exists='replace')\n",
        "\n",
        "      target.write('Finalizando processo ETL\\n')"
      ],
      "execution_count": 9,
      "outputs": []
    },
    {
      "cell_type": "code",
      "metadata": {
        "colab": {
          "base_uri": "https://localhost:8080/"
        },
        "id": "kgfjFhkG5V4g",
        "outputId": "2d8ecd9a-1fa9-440e-cd31-617f1429fca3"
      },
      "source": [
        "# run luigi as local scheduler\n",
        "luigi.build([OrderTask()], local_scheduler=True)"
      ],
      "execution_count": 10,
      "outputs": [
        {
          "output_type": "stream",
          "text": [
            "DEBUG: Checking if OrderTask() is complete\n",
            "DEBUG: Checking if ProductsTask() is complete\n",
            "INFO: Informed scheduler that task   OrderTask__99914b932b   has status   PENDING\n",
            "DEBUG: Checking if CustomerTask() is complete\n",
            "INFO: Informed scheduler that task   ProductsTask__99914b932b   has status   PENDING\n",
            "INFO: Informed scheduler that task   CustomerTask__99914b932b   has status   PENDING\n",
            "INFO: Done scheduling tasks\n",
            "INFO: Running Worker with 1 processes\n",
            "DEBUG: Asking scheduler for work...\n",
            "DEBUG: Pending tasks: 3\n",
            "INFO: [pid 57] Worker Worker(salt=948709935, workers=1, host=ea88237e6e30, username=root, pid=57) running   CustomerTask()\n",
            "INFO: [pid 57] Worker Worker(salt=948709935, workers=1, host=ea88237e6e30, username=root, pid=57) done      CustomerTask()\n",
            "DEBUG: 1 running tasks, waiting for next task to finish\n",
            "INFO: Informed scheduler that task   CustomerTask__99914b932b   has status   DONE\n",
            "DEBUG: Asking scheduler for work...\n",
            "DEBUG: Pending tasks: 2\n",
            "INFO: [pid 57] Worker Worker(salt=948709935, workers=1, host=ea88237e6e30, username=root, pid=57) running   ProductsTask()\n",
            "INFO: [pid 57] Worker Worker(salt=948709935, workers=1, host=ea88237e6e30, username=root, pid=57) done      ProductsTask()\n",
            "DEBUG: 1 running tasks, waiting for next task to finish\n",
            "INFO: Informed scheduler that task   ProductsTask__99914b932b   has status   DONE\n",
            "DEBUG: Asking scheduler for work...\n",
            "DEBUG: Pending tasks: 1\n",
            "INFO: [pid 57] Worker Worker(salt=948709935, workers=1, host=ea88237e6e30, username=root, pid=57) running   OrderTask()\n",
            "INFO: [pid 57] Worker Worker(salt=948709935, workers=1, host=ea88237e6e30, username=root, pid=57) done      OrderTask()\n",
            "DEBUG: 1 running tasks, waiting for next task to finish\n",
            "INFO: Informed scheduler that task   OrderTask__99914b932b   has status   DONE\n",
            "DEBUG: Asking scheduler for work...\n",
            "DEBUG: Done\n",
            "DEBUG: There are no more tasks to run at this time\n",
            "INFO: Worker Worker(salt=948709935, workers=1, host=ea88237e6e30, username=root, pid=57) was stopped. Shutting down Keep-Alive thread\n",
            "INFO: \n",
            "===== Luigi Execution Summary =====\n",
            "\n",
            "Scheduled 3 tasks of which:\n",
            "* 3 ran successfully:\n",
            "    - 1 CustomerTask()\n",
            "    - 1 OrderTask()\n",
            "    - 1 ProductsTask()\n",
            "\n",
            "This progress looks :) because there were no failed tasks or missing dependencies\n",
            "\n",
            "===== Luigi Execution Summary =====\n",
            "\n"
          ],
          "name": "stderr"
        },
        {
          "output_type": "execute_result",
          "data": {
            "text/plain": [
              "True"
            ]
          },
          "metadata": {
            "tags": []
          },
          "execution_count": 10
        }
      ]
    },
    {
      "cell_type": "code",
      "metadata": {
        "colab": {
          "base_uri": "https://localhost:8080/",
          "height": 391
        },
        "id": "hLjhXWhc2fqB",
        "outputId": "5550024d-1f8b-4d21-90d2-e81d9970e52f"
      },
      "source": [
        "sql = \"\"\"\n",
        "  select\n",
        "    p.contact_name as cliente_name,\n",
        "    sum(p.subtotal)\n",
        "  from pedidos p\n",
        "  group by p.contact_name\n",
        "  order by subtotal desc\n",
        "\"\"\"\n",
        "df = pd.read_sql_query(sql, conn_dw)\n",
        "df"
      ],
      "execution_count": 11,
      "outputs": [
        {
          "output_type": "execute_result",
          "data": {
            "text/html": [
              "<div>\n",
              "<style scoped>\n",
              "    .dataframe tbody tr th:only-of-type {\n",
              "        vertical-align: middle;\n",
              "    }\n",
              "\n",
              "    .dataframe tbody tr th {\n",
              "        vertical-align: top;\n",
              "    }\n",
              "\n",
              "    .dataframe thead th {\n",
              "        text-align: right;\n",
              "    }\n",
              "</style>\n",
              "<table border=\"1\" class=\"dataframe\">\n",
              "  <thead>\n",
              "    <tr style=\"text-align: right;\">\n",
              "      <th></th>\n",
              "      <th>cliente_name</th>\n",
              "      <th>sum(p.subtotal)</th>\n",
              "    </tr>\n",
              "  </thead>\n",
              "  <tbody>\n",
              "    <tr>\n",
              "      <th>0</th>\n",
              "      <td>Georg Pipps</td>\n",
              "      <td>10033.280040</td>\n",
              "    </tr>\n",
              "    <tr>\n",
              "      <th>1</th>\n",
              "      <td>Horst Kloss</td>\n",
              "      <td>11950.080001</td>\n",
              "    </tr>\n",
              "    <tr>\n",
              "      <th>2</th>\n",
              "      <td>Karl Jablonski</td>\n",
              "      <td>2938.199998</td>\n",
              "    </tr>\n",
              "    <tr>\n",
              "      <th>3</th>\n",
              "      <td>Carlos Hernández</td>\n",
              "      <td>3242.820006</td>\n",
              "    </tr>\n",
              "    <tr>\n",
              "      <th>4</th>\n",
              "      <td>Anabela Domingues</td>\n",
              "      <td>1296.000062</td>\n",
              "    </tr>\n",
              "    <tr>\n",
              "      <th>...</th>\n",
              "      <td>...</td>\n",
              "      <td>...</td>\n",
              "    </tr>\n",
              "    <tr>\n",
              "      <th>62</th>\n",
              "      <td>Fran Wilson</td>\n",
              "      <td>712.000007</td>\n",
              "    </tr>\n",
              "    <tr>\n",
              "      <th>63</th>\n",
              "      <td>Maurizio Moroni</td>\n",
              "      <td>80.100001</td>\n",
              "    </tr>\n",
              "    <tr>\n",
              "      <th>64</th>\n",
              "      <td>Francisco Chang</td>\n",
              "      <td>100.799999</td>\n",
              "    </tr>\n",
              "    <tr>\n",
              "      <th>65</th>\n",
              "      <td>Jytte Petersen</td>\n",
              "      <td>352.599998</td>\n",
              "    </tr>\n",
              "    <tr>\n",
              "      <th>66</th>\n",
              "      <td>Alejandra Camino</td>\n",
              "      <td>740.400020</td>\n",
              "    </tr>\n",
              "  </tbody>\n",
              "</table>\n",
              "<p>67 rows × 2 columns</p>\n",
              "</div>"
            ],
            "text/plain": [
              "         cliente_name  sum(p.subtotal)\n",
              "0         Georg Pipps     10033.280040\n",
              "1         Horst Kloss     11950.080001\n",
              "2      Karl Jablonski      2938.199998\n",
              "3    Carlos Hernández      3242.820006\n",
              "4   Anabela Domingues      1296.000062\n",
              "..                ...              ...\n",
              "62        Fran Wilson       712.000007\n",
              "63    Maurizio Moroni        80.100001\n",
              "64    Francisco Chang       100.799999\n",
              "65     Jytte Petersen       352.599998\n",
              "66   Alejandra Camino       740.400020\n",
              "\n",
              "[67 rows x 2 columns]"
            ]
          },
          "metadata": {
            "tags": []
          },
          "execution_count": 11
        }
      ]
    },
    {
      "cell_type": "code",
      "metadata": {
        "id": "4fOUosBAsYts"
      },
      "source": [
        ""
      ],
      "execution_count": null,
      "outputs": []
    }
  ]
}