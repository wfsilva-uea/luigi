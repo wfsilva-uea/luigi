{
  "nbformat": 4,
  "nbformat_minor": 0,
  "metadata": {
    "colab": {
      "name": "luigi.ipynb",
      "provenance": [],
      "toc_visible": true,
      "include_colab_link": true
    },
    "kernelspec": {
      "display_name": "Python 3",
      "name": "python3"
    }
  },
  "cells": [
    {
      "cell_type": "markdown",
      "metadata": {
        "id": "view-in-github",
        "colab_type": "text"
      },
      "source": [
        "<a href=\"https://colab.research.google.com/github/wfsilva-uea/luigi/blob/master/luigi.ipynb\" target=\"_parent\"><img src=\"https://colab.research.google.com/assets/colab-badge.svg\" alt=\"Open In Colab\"/></a>"
      ]
    },
    {
      "cell_type": "markdown",
      "metadata": {
        "id": "Z8rQVhYPGM2P"
      },
      "source": [
        "### Oque é ETL?\n"
      ]
    },
    {
      "cell_type": "markdown",
      "metadata": {
        "id": "XikXMXZOGpN4"
      },
      "source": [
        "A coleta dos dados corrobora para o processo de Extract, Transform and Load (ETL), que são as rotinas para extração, transformação e carga dos dados extraídos dos bancos de dados de origem (transacionais) para o “Data Warehouse” (DW). O processo de ETL é a etapa mais importante dentro de processo de BI. É essencial na modelagem da base de dados e faz a conexão entre o operacional e o DW. "
      ]
    },
    {
      "cell_type": "markdown",
      "metadata": {
        "id": "3fI4Spi-Hmjp"
      },
      "source": [
        "### Por que sua utilização no processo de Ciências dos Dados?\n"
      ]
    },
    {
      "cell_type": "markdown",
      "metadata": {
        "id": "-DB9FG3dGrZw"
      },
      "source": [
        "Quando trabalhamos com um grande volume de dados uma ferramenta ETL deve ser utilizada. Utiliza-se da criação de consultas em SQL, de uma forma bem visual, criando componentes que irão automatizar a atualização dos dados, tabelas e visualizações a serem enviados, populando e estruturando do DW."
      ]
    },
    {
      "cell_type": "markdown",
      "metadata": {
        "id": "xzXuM-NpIYvd"
      },
      "source": [
        "### Caraterísticas gerais da ferramenta. Vantagem e desvantagem\n",
        "\n",
        "https://luigi.readthedocs.io/en/stable/"
      ]
    },
    {
      "cell_type": "markdown",
      "metadata": {
        "id": "tLhaqq35UZWl"
      },
      "source": [
        "#### Vantagens\n",
        "\n",
        "*   É Python!\n",
        "*   Assim, primeiro, você já sabe codificar nele, mais você pode combinar o processo que deseja automatizar (seu código original) com a infraestrutura do pipeline (portanto, Luigi)\n",
        "*   Sua estrutura “reversa” permite que ele se recupere de tarefas com falha sem executar novamente o pipeline inteiro.\n",
        "*   Um wrapper de lote AWS para trabalhar diretamente com o Amazon ECS.\n",
        "*   Possui GUI que mostra o status das tarefas e uma representação gráfica do seu pipeline.\n",
        "\n",
        "#### Desvantagens\n",
        "\n",
        "*   É difícil testar.\n",
        "*   Possui um agendador central que torna difícil paralelizar tarefas.\n",
        "*   Precisa ser mantido simples, ou melhor, linear (tente mantê-lo <1k tarefas). Muitos nós podem diminuir o tempo de execução de forma incrível.\n",
        "*   Não há gatilho. Assim, o pipeline não iniciará quando os arquivos necessários estiverem no lugar, mas você precisa configurar um cronjob para verificá-los e fazer o pipeline iniciar"
      ]
    },
    {
      "cell_type": "markdown",
      "metadata": {
        "id": "5h4skoGuJQgX"
      },
      "source": [
        "### Desenvolver um exemplo do processo ETL, incluir no exemplo operação de linha, classificação, junção e agregação."
      ]
    },
    {
      "cell_type": "code",
      "metadata": {
        "id": "H87ag5ivLlUP"
      },
      "source": [
        "!pip install luigi -q"
      ],
      "execution_count": 2,
      "outputs": []
    },
    {
      "cell_type": "code",
      "metadata": {
        "id": "VosWjc3xDpmN"
      },
      "source": [
        "!npx degit wfsilva-uea/luigi/northwind.sqlite northwind.sqlite -f\n",
        "!npx degit wfsilva-uea/luigi/clientes.csv clientes.csv -f"
      ],
      "execution_count": null,
      "outputs": []
    },
    {
      "cell_type": "code",
      "metadata": {
        "id": "nC1G6CToMaY0"
      },
      "source": [
        "import luigi\n",
        "import sqlite3\n",
        "import pandas as pd"
      ],
      "execution_count": 86,
      "outputs": []
    },
    {
      "cell_type": "code",
      "metadata": {
        "id": "I9T3xNNNryC-"
      },
      "source": [
        "# northwind connection\n",
        "CONNECTION = sqlite3.connect('northwind.sqlite')"
      ],
      "execution_count": 79,
      "outputs": []
    },
    {
      "cell_type": "code",
      "metadata": {
        "id": "D4AgpP08D0bh"
      },
      "source": [
        "# dw connection\n",
        "DW_CONNECTION = sqlite3.connect('dw.sqlite')"
      ],
      "execution_count": 80,
      "outputs": []
    },
    {
      "cell_type": "code",
      "metadata": {
        "id": "xl6wNCEs4q-e"
      },
      "source": [
        "class ProductsTask(luigi.Task):\n",
        "  \n",
        "  def output(self):\n",
        "    return luigi.LocalTarget('products.log')\n",
        "\n",
        "  def run(self):\n",
        "    with self.output().open('w') as target:\n",
        "\n",
        "      sql = \"\"\"\n",
        "        select \n",
        "          product_id,\n",
        "          product_name,\n",
        "          unit_price\n",
        "        from products\n",
        "        order by product_name\n",
        "      \"\"\"\n",
        "      df = pd.read_sql_query(sql, CONNECTION)\n",
        "      df.to_sql('produtos', index=False, con=DW_CONNECTION, if_exists='replace')\n",
        "\n",
        "      target.write('TUDO OK!')"
      ],
      "execution_count": 81,
      "outputs": []
    },
    {
      "cell_type": "code",
      "metadata": {
        "id": "LIP6ryMO5N4n"
      },
      "source": [
        "class OrderTask(luigi.Task):\n",
        "  \n",
        "  def requires(self):\n",
        "    return ProductsTask()\n",
        "\n",
        "  def output(self):\n",
        "    return luigi.LocalTarget('orders.log')\n",
        "\n",
        "  @staticmethod\n",
        "  def _get_orders():\n",
        "    sql = \"\"\"\n",
        "      select\n",
        "        o.customer_id,\n",
        "        od.product_id,\n",
        "        od.unit_price,\n",
        "        od.quantity,\n",
        "        od.discount\n",
        "      from orders o \n",
        "      join order_details od on od.order_id = o.order_id\n",
        "    \"\"\"\n",
        "\n",
        "    df = pd.read_sql_query(sql, CONNECTION)\n",
        "    df['total'] = (df['unit_price'] * df['quantity'] * (1 - df['discount']) / 100) * 100\n",
        "    df = df[['customer_id', 'product_id', 'total']]\n",
        "    df = df.groupby(by=['customer_id', 'product_id']).agg('sum')\n",
        "    return df.reset_index()\n",
        "\n",
        "  @staticmethod\n",
        "  def _get_customers():\n",
        "    return pd.read_csv('clientes.csv', encoding='utf-8')\n",
        "\n",
        "  @staticmethod\n",
        "  def _get_products():\n",
        "    return pd.read_sql_query('select * from produtos', con=DW_CONNECTION)\n",
        "\n",
        "  def run(self):\n",
        "    with self.output().open('w') as target:\n",
        "      df_orders = self._get_orders()\n",
        "      df_customers = self._get_customers()\n",
        "      df_orders = pd.merge(df_orders, df_customers, left_on=['customer_id'], right_on=['customer_id'])    \n",
        "      \n",
        "      df_products = self._get_products()\n",
        "      df_orders = pd.merge(df_orders, df_products, left_on=['product_id'], right_on=['product_id'])\n",
        "\n",
        "      # storing orders\n",
        "      df_orders.to_sql('pedidos', index=False, con=DW_CONNECTION, if_exists='replace')\n",
        "\n",
        "      target.write('TUDO OK!')"
      ],
      "execution_count": 91,
      "outputs": []
    },
    {
      "cell_type": "code",
      "metadata": {
        "colab": {
          "base_uri": "https://localhost:8080/"
        },
        "id": "kgfjFhkG5V4g",
        "outputId": "e97ba7f1-ffcc-44bb-f748-44bd7b5007e8"
      },
      "source": [
        "# run luigi as local scheduler\n",
        "luigi.build([OrderTask()], local_scheduler=True)"
      ],
      "execution_count": 93,
      "outputs": [
        {
          "output_type": "stream",
          "text": [
            "DEBUG: Checking if OrderTask() is complete\n",
            "DEBUG: Checking if ProductsTask() is complete\n",
            "INFO: Informed scheduler that task   OrderTask__99914b932b   has status   PENDING\n",
            "INFO: Informed scheduler that task   ProductsTask__99914b932b   has status   DONE\n",
            "INFO: Done scheduling tasks\n",
            "INFO: Running Worker with 1 processes\n",
            "DEBUG: Asking scheduler for work...\n",
            "DEBUG: Pending tasks: 1\n",
            "INFO: [pid 56] Worker Worker(salt=797362464, workers=1, host=a1eab9a047fd, username=root, pid=56) running   OrderTask()\n",
            "INFO: [pid 56] Worker Worker(salt=797362464, workers=1, host=a1eab9a047fd, username=root, pid=56) done      OrderTask()\n",
            "DEBUG: 1 running tasks, waiting for next task to finish\n",
            "INFO: Informed scheduler that task   OrderTask__99914b932b   has status   DONE\n",
            "DEBUG: Asking scheduler for work...\n",
            "DEBUG: Done\n",
            "DEBUG: There are no more tasks to run at this time\n",
            "INFO: Worker Worker(salt=797362464, workers=1, host=a1eab9a047fd, username=root, pid=56) was stopped. Shutting down Keep-Alive thread\n",
            "INFO: \n",
            "===== Luigi Execution Summary =====\n",
            "\n",
            "Scheduled 2 tasks of which:\n",
            "* 1 complete ones were encountered:\n",
            "    - 1 ProductsTask()\n",
            "* 1 ran successfully:\n",
            "    - 1 OrderTask()\n",
            "\n",
            "This progress looks :) because there were no failed tasks or missing dependencies\n",
            "\n",
            "===== Luigi Execution Summary =====\n",
            "\n"
          ],
          "name": "stderr"
        },
        {
          "output_type": "execute_result",
          "data": {
            "text/plain": [
              "True"
            ]
          },
          "metadata": {
            "tags": []
          },
          "execution_count": 93
        }
      ]
    },
    {
      "cell_type": "code",
      "metadata": {
        "colab": {
          "base_uri": "https://localhost:8080/",
          "height": 497
        },
        "id": "hLjhXWhc2fqB",
        "outputId": "55c13ec3-15c1-4bdf-d0b0-1e4b2d399a25"
      },
      "source": [
        "sql = \"\"\"\n",
        "  select\n",
        "    p.contact_name as cliente,\n",
        "    sum(p.total) as 'total pedido'\n",
        "  from pedidos p\n",
        "  group by p.contact_name\n",
        "  order by total desc\n",
        "\"\"\"\n",
        "df = pd.read_sql_query(sql, conn_dw)\n",
        "df = df.sort_values(by='total pedido', ascending=False)\n",
        "\n",
        "ax = df.head(10).plot.bar(x='cliente', y='total pedido', rot=0, figsize=(20, 8))\n",
        "for p in ax.patches:\n",
        "    ax.annotate('R$ %.2f' % p.get_height(), (p.get_x() * .99, p.get_height() * 1.025))"
      ],
      "execution_count": 94,
      "outputs": [
        {
          "output_type": "display_data",
          "data": {
            "image/png": "[encoded data removed]",
            "text/plain": [
              "<Figure size 1440x576 with 1 Axes>"
            ]
          },
          "metadata": {
            "tags": [],
            "needs_background": "light"
          }
        }
      ]
    }
  ]
}